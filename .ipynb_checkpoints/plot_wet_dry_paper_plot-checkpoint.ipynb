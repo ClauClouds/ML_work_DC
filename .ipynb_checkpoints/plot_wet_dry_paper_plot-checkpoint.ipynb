{
 "cells": [
  {
   "cell_type": "markdown",
   "id": "d3ad5986-73df-44ef-a5ac-0d4edef2f3ad",
   "metadata": {},
   "source": [
    "#### Code to plot the characteristics of the different selected areas of the feature space\n",
    "##### Author: Claudia Acquistapace\n",
    "##### date: 06/02/2023\n",
    "##### code to plot final plot for publication of the wet/dry analysis from ERA5 data\n",
    "\n"
   ]
  },
  {
   "cell_type": "code",
   "execution_count": 2,
   "id": "8e51a9fa-035a-4adb-81f2-d4a745da44f4",
   "metadata": {},
   "outputs": [],
   "source": [
    "import xarray as xr\n",
    "import numpy as np\n",
    "import pandas as pd\n",
    "from pathlib import Path\n",
    "import glob\n",
    "import matplotlib.pyplot as plt\n",
    "from matplotlib import rcParams\n",
    "import matplotlib\n",
    "from datetime import datetime, timedelta\n",
    "import matplotlib.dates as mdates\n",
    "from matplotlib.ticker import (MultipleLocator, AutoMinorLocator)\n",
    "import matplotlib.ticker as ticker\n",
    "import matplotlib.pyplot as plt\n",
    "from matplotlib import rcParams\n",
    "from warnings import warn\n",
    "import datetime as dt\n",
    "from scipy import interpolate\n",
    "import matplotlib as mpl\n",
    "import os.path\n",
    "import itertools\n",
    "import os.path\n",
    "\n",
    "path_out = '/net/ostro/ML_work_DC/era5_dry_wet/vars_histograms/'\n",
    "\n",
    "\n",
    "# reading the datasets to compare\n",
    "wet_only = xr.open_dataset('/net/ostro/ML_work_DC/era5_dry_wet/wet_only_era5.nc')\n",
    "wet_in_dry = xr.open_dataset('/net/ostro/ML_work_DC/era5_dry_wet/wet_in_dry_era5.nc')\n",
    "dry_in_wet = xr.open_dataset('/net/ostro/ML_work_DC/era5_dry_wet/dry_in_wet_era5.nc')\n",
    "\n",
    "# selecting wet data from the wet in dry area\n",
    "ind_wet = np.where(wet_in_dry.im_type.values == 0)[0]\n",
    "ind_dry = np.where(wet_in_dry.im_type.values == 1)[0]\n",
    "# creating 2 separated datasets\n",
    "wet_wet_in_dry = wet_in_dry.isel(n_crops=ind_wet)\n",
    "dry_only = wet_in_dry.isel(n_crops=ind_dry)"
   ]
  },
  {
   "cell_type": "markdown",
   "id": "64bf2cc3-6a5a-47e4-bfee-b286201198a7",
   "metadata": {},
   "source": [
    "plotting histograms of SST\n"
   ]
  },
  {
   "cell_type": "code",
   "execution_count": 13,
   "id": "5ab2acfa-a2cb-4ff0-a7e4-5273e2263eb8",
   "metadata": {},
   "outputs": [
    {
     "data": {
      "image/png": "[encoded data removed]",
      "text/plain": [
       "<Figure size 720x720 with 1 Axes>"
      ]
     },
     "metadata": {
      "needs_background": "light"
     },
     "output_type": "display_data"
    }
   ],
   "source": [
    "# reading SST variables\n",
    "var_name = 'SST'\n",
    "var_wet_only = wet_only[var_name].values\n",
    "var_wet_wet_in_dry = wet_wet_in_dry[var_name].values\n",
    "var_dry_only = dry_only[var_name].values\n",
    "var_dry_in_wet = dry_in_wet[var_name].values\n",
    "\n",
    "# plot quicklook of filtered and corrected mdv for checking\n",
    "labelsizeaxes   = 14\n",
    "fontSizeTitle   = 16\n",
    "fontSizeX       = 16\n",
    "fontSizeY       = 16\n",
    "cbarAspect      = 10\n",
    "fontSizeCbar    = 16\n",
    "rcParams['font.sans-serif'] = ['Tahoma']\n",
    "matplotlib.rcParams['savefig.dpi'] = 100\n",
    "plt.rcParams.update({'font.size':16})\n",
    "\n",
    "\n",
    "fig, ax = plt.subplots(nrows=1, ncols=1, figsize=(10,10))\n",
    "rcParams['font.sans-serif'] = ['Tahoma']\n",
    "ax.spines[\"top\"].set_visible(False)\n",
    "ax.spines[\"right\"].set_visible(False)\n",
    "ax.get_xaxis().tick_bottom()\n",
    "ax.get_yaxis().tick_left()\n",
    "matplotlib.rcParams['savefig.dpi'] = 100\n",
    "plt.gcf().subplots_adjust(bottom=0.15)\n",
    "ax.spines[\"top\"].set_visible(False)\n",
    "ax.spines[\"right\"].set_visible(False)\n",
    "ax.spines[\"bottom\"].set_linewidth(3)\n",
    "ax.spines[\"left\"].set_linewidth(3)\n",
    "\n",
    "minval = np.nanmin([np.nanmin(var_wet_only), np.nanmin(var_wet_wet_in_dry), np.nanmin(var_dry_only), np.nanmin(var_dry_in_wet)])\n",
    "maxval = np.nanmax([np.nanmax(var_wet_only), np.nanmax(var_wet_wet_in_dry), np.nanmax(var_dry_only), np.nanmax(var_dry_in_wet)])\n",
    "\n",
    "# An \"interface\" to matplotlib.axes.Axes.hist() method\n",
    "n_d, bins_d, patches_d = ax.hist(x=var_wet_only, bins=10, range=[minval, maxval], color='teal',\\\n",
    "                                 alpha=1, histtype=\"step\", label='wet patch', align='mid', linewidth=4)\n",
    "n_w, bins_w, patches_w = ax.hist(x=var_wet_wet_in_dry, bins=10, range=[minval, maxval], color='teal',\\\n",
    "                                            alpha=1, histtype=\"step\",  label='wet in dry area', align='mid', linewidth=4, linestyle='--')\n",
    "n_dd, bins_dd, patches_dd = ax.hist(x=var_dry_in_wet, bins=10, range=[minval, maxval], color='darkorange',\\\n",
    "                                 alpha=1, histtype=\"step\", label='dry in wet area', align='mid', linewidth=4, linestyle='--')\n",
    "n_ww, bins_ww, patches_ww = ax.hist(x=var_dry_only, bins=10, range=[minval, maxval], color='darkorange',\\\n",
    "                                            alpha=1, histtype=\"step\", label='dry only', align='mid', linewidth=4)\n",
    "ax.legend(frameon=False, loc='upper left')\n",
    "ax.grid(axis='y', alpha=0.75)\n",
    "ax.set_xlabel(var_name+' [K]')\n",
    "ax.set_ylabel('Frequency')\n",
    "#maxfreq = n.max()\n",
    "# Set a clean upper y-axis limit.\n",
    "#ax.set_ylim(ymax=np.ceil(maxfreq / 10) * 10 if maxfreq % 10 else maxfreq + 10)\n",
    "fig.savefig(path_out+var_name+'_all_areas.png', format='png')"
   ]
  },
  {
   "cell_type": "code",
   "execution_count": 22,
   "id": "3688989e-0841-4647-aab5-81e0fd9c5553",
   "metadata": {},
   "outputs": [
    {
     "ename": "TypeError",
     "evalue": "Axes.vlines() missing 1 required positional argument: 'ymax'",
     "output_type": "error",
     "traceback": [
      "\u001b[0;31m---------------------------------------------------------------------------\u001b[0m",
      "\u001b[0;31mTypeError\u001b[0m                                 Traceback (most recent call last)",
      "\u001b[0;32m/tmp/ipykernel_2391924/398446914.py\u001b[0m in \u001b[0;36m<module>\u001b[0;34m\u001b[0m\n\u001b[1;32m     50\u001b[0m \u001b[0maxs\u001b[0m\u001b[0;34m.\u001b[0m\u001b[0mtick_params\u001b[0m\u001b[0;34m(\u001b[0m\u001b[0mwhich\u001b[0m\u001b[0;34m=\u001b[0m\u001b[0;34m'major'\u001b[0m\u001b[0;34m,\u001b[0m \u001b[0mlength\u001b[0m\u001b[0;34m=\u001b[0m\u001b[0;36m7\u001b[0m\u001b[0;34m,\u001b[0m \u001b[0mwidth\u001b[0m\u001b[0;34m=\u001b[0m\u001b[0;36m3\u001b[0m\u001b[0;34m)\u001b[0m\u001b[0;34m\u001b[0m\u001b[0;34m\u001b[0m\u001b[0m\n\u001b[1;32m     51\u001b[0m \u001b[0;31m#ax1.xaxis.set_minor_locator(ticker.AutoMinorLocator(n=5))\u001b[0m\u001b[0;34m\u001b[0m\u001b[0;34m\u001b[0m\u001b[0m\n\u001b[0;32m---> 52\u001b[0;31m \u001b[0maxs\u001b[0m\u001b[0;34m.\u001b[0m\u001b[0mvlines\u001b[0m\u001b[0;34m(\u001b[0m\u001b[0;36m0.\u001b[0m\u001b[0;34m,\u001b[0m\u001b[0;34m[\u001b[0m\u001b[0;36m0\u001b[0m\u001b[0;34m,\u001b[0m \u001b[0mlen\u001b[0m\u001b[0;34m(\u001b[0m\u001b[0mlevels\u001b[0m\u001b[0;34m)\u001b[0m\u001b[0;34m]\u001b[0m\u001b[0;34m,\u001b[0m \u001b[0mlinestyle\u001b[0m\u001b[0;34m=\u001b[0m\u001b[0;34m'--'\u001b[0m\u001b[0;34m,\u001b[0m \u001b[0mcolor\u001b[0m\u001b[0;34m=\u001b[0m\u001b[0;34m'black'\u001b[0m\u001b[0;34m)\u001b[0m\u001b[0;34m\u001b[0m\u001b[0;34m\u001b[0m\u001b[0m\n\u001b[0m\u001b[1;32m     53\u001b[0m \u001b[0maxs\u001b[0m\u001b[0;34m.\u001b[0m\u001b[0mtick_params\u001b[0m\u001b[0;34m(\u001b[0m\u001b[0maxis\u001b[0m\u001b[0;34m=\u001b[0m\u001b[0;34m'both'\u001b[0m\u001b[0;34m,\u001b[0m \u001b[0mlabelsize\u001b[0m\u001b[0;34m=\u001b[0m\u001b[0mdict_plot_settings\u001b[0m\u001b[0;34m[\u001b[0m\u001b[0;34m'labelsizeaxes'\u001b[0m\u001b[0;34m]\u001b[0m\u001b[0;34m)\u001b[0m\u001b[0;34m\u001b[0m\u001b[0;34m\u001b[0m\u001b[0m\n\u001b[1;32m     54\u001b[0m \u001b[0;34m\u001b[0m\u001b[0m\n",
      "\u001b[0;32m/usr/lib/python3/dist-packages/matplotlib/__init__.py\u001b[0m in \u001b[0;36minner\u001b[0;34m(ax, data, *args, **kwargs)\u001b[0m\n\u001b[1;32m   1414\u001b[0m     \u001b[0;32mdef\u001b[0m \u001b[0minner\u001b[0m\u001b[0;34m(\u001b[0m\u001b[0max\u001b[0m\u001b[0;34m,\u001b[0m \u001b[0;34m*\u001b[0m\u001b[0margs\u001b[0m\u001b[0;34m,\u001b[0m \u001b[0mdata\u001b[0m\u001b[0;34m=\u001b[0m\u001b[0;32mNone\u001b[0m\u001b[0;34m,\u001b[0m \u001b[0;34m**\u001b[0m\u001b[0mkwargs\u001b[0m\u001b[0;34m)\u001b[0m\u001b[0;34m:\u001b[0m\u001b[0;34m\u001b[0m\u001b[0;34m\u001b[0m\u001b[0m\n\u001b[1;32m   1415\u001b[0m         \u001b[0;32mif\u001b[0m \u001b[0mdata\u001b[0m \u001b[0;32mis\u001b[0m \u001b[0;32mNone\u001b[0m\u001b[0;34m:\u001b[0m\u001b[0;34m\u001b[0m\u001b[0;34m\u001b[0m\u001b[0m\n\u001b[0;32m-> 1416\u001b[0;31m             \u001b[0;32mreturn\u001b[0m \u001b[0mfunc\u001b[0m\u001b[0;34m(\u001b[0m\u001b[0max\u001b[0m\u001b[0;34m,\u001b[0m \u001b[0;34m*\u001b[0m\u001b[0mmap\u001b[0m\u001b[0;34m(\u001b[0m\u001b[0msanitize_sequence\u001b[0m\u001b[0;34m,\u001b[0m \u001b[0margs\u001b[0m\u001b[0;34m)\u001b[0m\u001b[0;34m,\u001b[0m \u001b[0;34m**\u001b[0m\u001b[0mkwargs\u001b[0m\u001b[0;34m)\u001b[0m\u001b[0;34m\u001b[0m\u001b[0;34m\u001b[0m\u001b[0m\n\u001b[0m\u001b[1;32m   1417\u001b[0m \u001b[0;34m\u001b[0m\u001b[0m\n\u001b[1;32m   1418\u001b[0m         \u001b[0mbound\u001b[0m \u001b[0;34m=\u001b[0m \u001b[0mnew_sig\u001b[0m\u001b[0;34m.\u001b[0m\u001b[0mbind\u001b[0m\u001b[0;34m(\u001b[0m\u001b[0max\u001b[0m\u001b[0;34m,\u001b[0m \u001b[0;34m*\u001b[0m\u001b[0margs\u001b[0m\u001b[0;34m,\u001b[0m \u001b[0;34m**\u001b[0m\u001b[0mkwargs\u001b[0m\u001b[0;34m)\u001b[0m\u001b[0;34m\u001b[0m\u001b[0;34m\u001b[0m\u001b[0m\n",
      "\u001b[0;31mTypeError\u001b[0m: Axes.vlines() missing 1 required positional argument: 'ymax'"
     ]
    },
    {
     "data": {
      "image/png": "[encoded data removed]",
      "text/plain": [
       "<Figure size 576x720 with 1 Axes>"
      ]
     },
     "metadata": {
      "needs_background": "light"
     },
     "output_type": "display_data"
    }
   ],
   "source": [
    " # reading data from the dictionary for the plot\n",
    "    \n",
    "var_name = 'w'\n",
    "mean_wet = np.nanmean(wet_only[var_name].values, axis=0)\n",
    "std_wet = np.nanstd(wet_only[var_name].values, axis=0)\n",
    "mean_wet_in_dry = np.nanmean(wet_wet_in_dry[var_name].values, axis=0)\n",
    "std_wet_in_dry = np.nanstd(wet_wet_in_dry[var_name].values, axis=0)\n",
    "mean_dry = np.nanmean(dry_only[var_name].values, axis=0)\n",
    "std_dry = np.nanstd(dry_only[var_name].values, axis=0)\n",
    "mean_dry_in_wet = np.nanmean(dry_in_wet[var_name].values, axis=0)\n",
    "std_dry_in_wet = np.nanstd(dry_in_wet[var_name].values, axis=0)\n",
    "\n",
    "\n",
    "levels = wet_only.levels.values\n",
    "strlev = []\n",
    "for ind, lev in enumerate(levels):\n",
    "    strlev.append(str(lev))\n",
    "\n",
    "dict_plot_settings = {\n",
    "    'labelsizeaxes':25,\n",
    "    'fontSizeTitle':25,\n",
    "    'fontSizeX'    :25,\n",
    "    'fontSizeY'    :25,\n",
    "    'cbarAspect'   :25,\n",
    "    'fontSizeCbar' :25,\n",
    "    'rcparams_font':['Tahoma'],\n",
    "    'savefig_dpi'  :100,\n",
    "    'font_size'    :25,\n",
    "    'grid'         :True}    \n",
    "fig, axs = plt.subplots(figsize=(8,10), constrained_layout=True)\n",
    "# plots settings defined by user at the top\n",
    "labelsizeaxes   = dict_plot_settings['labelsizeaxes']\n",
    "fontSizeTitle   = dict_plot_settings['fontSizeTitle']\n",
    "fontSizeX       = dict_plot_settings['fontSizeX']\n",
    "fontSizeY       = dict_plot_settings['fontSizeY']\n",
    "cbarAspect      = dict_plot_settings['cbarAspect']\n",
    "fontSizeCbar    = dict_plot_settings['fontSizeCbar']\n",
    "matplotlib.rcParams['savefig.dpi'] = dict_plot_settings['savefig_dpi']\n",
    "plt.rcParams.update({'font.size':dict_plot_settings['font_size']})\n",
    "grid = dict_plot_settings['grid']\n",
    "matplotlib.rc('xtick', labelsize=20)  # sets dimension of ticks in the plots\n",
    "matplotlib.rc('ytick', labelsize=20) # sets dimension of ticks in the plots    fs = 32\n",
    "#ax1.set_xlim(binned_sst[0]-1.5, binned_sst[-1]+0.1)\n",
    "axs.spines['top'].set_visible(False)\n",
    "axs.spines['right'].set_visible(False)\n",
    "axs.spines['bottom'].set_linewidth(3)\n",
    "axs.spines['left'].set_linewidth(3)\n",
    "#ax1.xaxis.set_minor_locator(ticker.AutoMinorLocator(n=5))\n",
    "axs.tick_params(which='minor', length=5, width=2)\n",
    "axs.tick_params(which='major', length=7, width=3)\n",
    "#ax1.xaxis.set_minor_locator(ticker.AutoMinorLocator(n=5))\n",
    "axs.vlines(0.,0, len(levels), linestyle='--', color='black')\n",
    "axs.tick_params(axis='both', labelsize=dict_plot_settings['labelsizeaxes'])    \n",
    "\n",
    "axs.plot(mean_wet, np.arange(len(levels)), linewidth=4, rasterized=True, color='teal', label='wet')    \n",
    "axs.fill_betweenx(np.arange(len(levels)), mean_wet-std_wet, mean_wet+std_wet, color='teal', alpha=0.2)\n",
    "\n",
    "axs.plot(mean_wet_in_dry, np.arange(len(levels)), 'teal', linewidth=4, rasterized=True, label='wet in dry', linestyle='--')    \n",
    "axs.fill_betweenx(np.arange(len(levels)), mean_wet_in_dry-std_wet_in_dry, mean_wet_in_dry+std_wet_in_dry, color='teal', alpha=0.2)\n",
    "\n",
    "axs.plot(mean_dry, np.arange(len(levels)), 'darkorange', linewidth=4, rasterized=True, label='dry')    \n",
    "axs.fill_betweenx(np.arange(len(levels)), mean_dry-std_dry, mean_dry+std_dry, color='darkorange', alpha=0.2)\n",
    "\n",
    "axs.plot(mean_dry_in_wet, np.arange(len(levels)), 'darkorange', linewidth=4, rasterized=True, label='dry in wet', linestyle='--')  \n",
    "axs.fill_betweenx(np.arange(len(levels)), mean_dry_in_wet-std_dry_in_wet, mean_dry_in_wet+std_dry_in_wet, color='darkorange', alpha=0.1)\n",
    "\n",
    "axs.set_ylabel('Pressure ['+wet_only.levels.units+']')\n",
    "axs.set_xlabel(var_name+' ['+wet_only[var_name].units+']')\n",
    "\n",
    "axs.set_yticklabels(strlev)\n",
    "axs.legend(frameon=False)\n",
    "fig.savefig(path_out+var_name+'_profiles_all_areas.png')\n"
   ]
  },
  {
   "cell_type": "code",
   "execution_count": null,
   "id": "d2813eec-9c2d-4f0b-8829-6394e009895d",
   "metadata": {},
   "outputs": [],
   "source": []
  },
  {
   "cell_type": "code",
   "execution_count": null,
   "id": "28524508-b7d6-46b2-bd8c-abd43707f07d",
   "metadata": {},
   "outputs": [],
   "source": []
  }
 ],
 "metadata": {
  "kernelspec": {
   "display_name": "Python 3 (ipykernel)",
   "language": "python",
   "name": "python3"
  },
  "language_info": {
   "codemirror_mode": {
    "name": "ipython",
    "version": 3
   },
   "file_extension": ".py",
   "mimetype": "text/x-python",
   "name": "python",
   "nbconvert_exporter": "python",
   "pygments_lexer": "ipython3",
   "version": "3.10.6"
  }
 },
 "nbformat": 4,
 "nbformat_minor": 5
}
